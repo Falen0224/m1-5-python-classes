{
 "cells": [
  {
   "cell_type": "code",
   "execution_count": 1,
   "metadata": {},
   "outputs": [
    {
     "data": {
      "text/plain": [
       "'\\nEthelbert Tang\\n'"
      ]
     },
     "execution_count": 1,
     "metadata": {},
     "output_type": "execute_result"
    }
   ],
   "source": [
    "\"\"\"\n",
    "Ethelbert Tang\n",
    "\"\"\""
   ]
  },
  {
   "cell_type": "markdown",
   "metadata": {
    "colab_type": "text",
    "id": "NRgJX0AHXweG"
   },
   "source": [
    "# Exercises\n",
    "\n",
    "## 1. Warmup: Triangle class\n",
    "\n",
    "Create a class called `Triangle`. \n",
    "\n",
    "* The `__init__()` method should take self, angle1, angle2, and angle3 as arguments. Make sure to set these appropriately in the body of the __init__()method.\n",
    "\n",
    "* Create a **class variable** variable named number_of_sides and set it equal to 3.\n",
    "\n",
    "* Create a method named `check_angles` calculating True if the sum of a triangle's three angles is is equal 180, and False otherwise.\n",
    "\n",
    "* Create a variable named `my_triangle` and set it equal to a new instance of your `Triangle` class. Pass it three angles that sum to 180 (e.g. 90, 30, 60).\n",
    "Print out `my_triangle.number_of_sides` and print out `my_triangle.check_angles()`.\n",
    "\n",
    "```python\n",
    "t1 = Triangle(60, 60, 60)\n",
    "t1.check_angles() --> True\n",
    "\n",
    "t2 = Triangle(70, 60, 60)\n",
    "t2.check_angles() --> False\n",
    "```"
   ]
  },
  {
   "cell_type": "code",
   "execution_count": 1,
   "metadata": {},
   "outputs": [
    {
     "name": "stdout",
     "output_type": "stream",
     "text": [
      "3\n"
     ]
    },
    {
     "data": {
      "text/plain": [
       "True"
      ]
     },
     "execution_count": 1,
     "metadata": {},
     "output_type": "execute_result"
    }
   ],
   "source": [
    "class Triangle():\n",
    "    def __init__(self, angle1, angle2, angle3):\n",
    "        self.angles = [angle1, angle2, angle3]\n",
    "    def number_of_sides(self):\n",
    "        print(\"3\")\n",
    "    def check_angles(self):\n",
    "        self.check_angles\n",
    "        if sum(self.angles) == 180:\n",
    "            return True\n",
    "        else:\n",
    "            return False\n",
    "\n",
    "my_triangle = Triangle(45, 45, 90)\n",
    "my_triangle.number_of_sides()\n",
    "my_triangle.check_angles()"
   ]
  },
  {
   "cell_type": "markdown",
   "metadata": {
    "colab_type": "text",
    "id": "VYTlzrmJguZS"
   },
   "source": [
    "## 2.Making Natural Numbers from sets\n",
    "One way to make the natural numbers from the cardinality operation ($|A|$ or `len(A)` in python). \n",
    "\n",
    "Define $A = \\{all\\ possible\\ sets\\}$ That is, $A$ is the set of all sets. \n",
    "\n",
    "Then, the set $\\mathbb{N} = \\{ x : |x| \\forall x \\in A\\}$. \n",
    "\n",
    "Take some time to parse out the math above. $\\mathbb{N}$ is the set of natural numbers. The upside down \"A\" symbol means \"for all\" -- this is another structure that translates to a python for loop:\n",
    "\n",
    "\n",
    "```natural_numbers = {len(x) for x in A}```\n",
    "\n",
    "**Exercise:** Make a `SetNumber` class subclassing python's `set` to generate the natural numbers. It should have:\n",
    "\n",
    "* Addition (`__add__`) and substraction (`__sub__`) defined on other python `sets` objects.\n",
    "\n",
    "* A method called `value(self)` which gets the current numeric value of the `SetNumber` (eg. the number of object in it's set)\n",
    "\n",
    "Example:\n",
    "```python\n",
    "sn = SetNumber({1,2,3})\n",
    "sn.value() --> 3\n",
    "\n",
    "sn + {2,3,4} = a SetNumber with value 4\n",
    "sn + {1,2,3} = a SetNumber with value 3\n",
    "sn + {4,5,6} = a SetNumber with value 6\n",
    "\n",
    "sn - {4,5,6} = a SetNumber with value 3\n",
    "sn - {1,2,3} = a SetNumber with value 0\n",
    "```"
   ]
  },
  {
   "cell_type": "code",
   "execution_count": 2,
   "metadata": {},
   "outputs": [
    {
     "name": "stdout",
     "output_type": "stream",
     "text": [
      "{1, 2, 3, 4} is a set with value 4\n",
      "{1} is a set with value 1\n"
     ]
    }
   ],
   "source": [
    "class SetNumber():\n",
    "    def __init__(self, start_set):\n",
    "        self.starter = set(start_set)\n",
    "    def value(self):\n",
    "        return len(self.starter)\n",
    "    def __add__(self, x):\n",
    "        print((self.starter).union(x),\"is a set with value\", len((self.starter).union(x)))\n",
    "    def __sub__(self, x):\n",
    "        print((self.starter).difference(x),\"is a set with value\", len((self.starter).difference(x)))\n",
    "\n",
    "sn = SetNumber({1,2,3})\n",
    "sn.value()\n",
    "sn + {2,3,4}\n",
    "sn - {2,3}"
   ]
  },
  {
   "cell_type": "markdown",
   "metadata": {},
   "source": [
    "# 2d Point Class\n",
    "\n",
    "Write the definition of a Point class. Objects from this class should have a\n",
    "\n",
    "- a method `show()` to display the coordinates of the point\n",
    "- a method `move(x,y)` to shift these coordinates\n",
    "- a method `dist(point)` that computes the distance between 2 points.\n",
    "\n",
    "### Note\n",
    "\n",
    "the **euclidean distance** between 2 points A(x0, y0) and B(x1, y1) can be computed by:\n",
    "  \n",
    "  $$ d(AB)=\\sqrt{(x_1−x_0)^2+(y_1−y_0)^2} $$\n",
    "\n",
    "The following python code provides an example of the expected behaviour of objects belonging to this class:\n",
    "\n",
    "```\n",
    ">>> p1 = Point(2, 3)\n",
    ">>> p2 = Point(3, 3)\n",
    ">>> p1.show()\n",
    "(2, 3)\n",
    ">>> p2.show()\n",
    "(3, 3)\n",
    ">>> p1.move(10, -10)\n",
    ">>> p1.show()\n",
    "(12, -7)\n",
    ">>> p2.show()\n",
    "(3, 3)\n",
    ">>> p1.dist(p2)\n",
    "1.0\n",
    "```\n"
   ]
  },
  {
   "cell_type": "code",
   "execution_count": 3,
   "metadata": {},
   "outputs": [
    {
     "name": "stdout",
     "output_type": "stream",
     "text": [
      "(2, 3)\n",
      "(3, 3)\n",
      "(12, -7)\n",
      "(3, 3)\n",
      "13.45362404707371\n"
     ]
    }
   ],
   "source": [
    "class Point():\n",
    "    def __init__(self, x0, y0):\n",
    "        self.x = x0\n",
    "        self.y = y0\n",
    "    def show(self):\n",
    "        print(\"(%0.0f, %0.0f)\" %(self.x, self.y))\n",
    "    def move(self, x, y):\n",
    "        import numpy as np\n",
    "        (self.x, self.y) = np.add((self.x, self.y), (x, y))\n",
    "        return (self.x, self.y)\n",
    "    def dist(self, point):\n",
    "        import math\n",
    "        print(math.sqrt(((point.x - self.x) ** 2) + ((point.y - self.y) ** 2)))\n",
    "        \"\"\"\n",
    "        this dist result is 13.45362404707371 as the code factors in the move\n",
    "        otherwise the result would be 1 if a \"reset\" took place\n",
    "        \"\"\"\n",
    "    \n",
    "p1 = Point(2, 3)\n",
    "p2 = Point(3, 3)\n",
    "p1.show()\n",
    "p2.show()\n",
    "p1.move(10, -10)\n",
    "p1.show()\n",
    "p2.show()\n",
    "p1.dist(p2)"
   ]
  },
  {
   "cell_type": "markdown",
   "metadata": {},
   "source": [
    "# Rational Number\n",
    "\n",
    "Make a class that represents a [Rational Number](https://en.wikipedia.org/wiki/Rational_number). The rational number takes as input two integers and represents them as a number which is a fraction.\n",
    "\n",
    "You will need:\n",
    "\n",
    "- A creation rountine taking in two integers and initializing the Rational Number\n",
    "\n",
    "- A functionality where printing the rational number prints it as a clean string in the format `\"a / b\"`\n",
    "\n",
    "- An addition/substraction/multiplication/division method defined on other rational numbers\n",
    "\n",
    "    - These only need to be defined on other rational numbers!\n",
    "\n",
    "    - The result needs to be another `RationalNumber` object\n",
    "\n",
    "```\n",
    ">>> a = RationalNumber(1, 2)\n",
    ">>> b = RationalNumber(1, 3)\n",
    ">>> a\n",
    "1 / 2\n",
    ">>> a + b\n",
    "5/6\n",
    ">>> a - b\n",
    "1/6\n",
    ">>> a * b\n",
    "1/6\n",
    ">>> a/b\n",
    "3/2\n",
    "```"
   ]
  },
  {
   "cell_type": "code",
   "execution_count": 1,
   "metadata": {},
   "outputs": [
    {
     "name": "stdout",
     "output_type": "stream",
     "text": [
      "1 / 2\n",
      "1 / 3\n",
      "5/6\n",
      "1/6\n",
      "1/6\n",
      "3/2\n"
     ]
    }
   ],
   "source": [
    "class RationalNumber():\n",
    "    def __init__(self, a, b):\n",
    "        self.a = a\n",
    "        self.b = b\n",
    "        print(self.a,\"/\", self.b)\n",
    "    def __add__(self, x):\n",
    "        from fractions import Fraction\n",
    "        print(Fraction((self.a / self.b) + (x.a / x.b)).limit_denominator())\n",
    "    def __sub__(self, x):\n",
    "        from fractions import Fraction\n",
    "        print(Fraction((self.a / self.b) - (x.a / x.b)).limit_denominator())\n",
    "    def __mul__(self, x):\n",
    "        from fractions import Fraction\n",
    "        print(Fraction((self.a / self.b) * (x.a / x.b)).limit_denominator())\n",
    "    def __truediv__(self, x):\n",
    "        from fractions import Fraction\n",
    "        print(Fraction((self.a / self.b) / (x.a / x.b)).limit_denominator())\n",
    "\n",
    "a = RationalNumber(1, 2)\n",
    "b = RationalNumber(1, 3)\n",
    "a + b\n",
    "a - b\n",
    "a * b\n",
    "a/b"
   ]
  },
  {
   "cell_type": "raw",
   "metadata": {
    "colab": {},
    "colab_type": "code",
    "id": "CiHuObmJdo0h"
   },
   "source": [
    "# 4. Deck of Cards\n",
    "\n",
    "Create a deck of cards class. \n",
    "\n",
    "Internally, the deck of cards should use another class, a card class. \n",
    "\n",
    "Your requirements are:\n",
    "\n",
    "- The Deck class should have a deal method to deal a single card from the deck\n",
    "- After a card is dealt, it is removed from the deck.\n",
    "    - If no cards remain in the deck and we try to deal, it should raise an exception\n",
    "- There should be a shuffle method which makes sure the deck of cards has all 52 cards and then rearranges them randomly.\n",
    "    - If there are fewer than 52 cards, an exception should be raised\n",
    "- The Card class should have a suit (Hearts, Diamonds, Clubs, Spades) and a value (A,2,3,4,5,6,7,8,9,10,J,Q,K)\n",
    "\n",
    "```\n",
    ">>> c = Card(suit='Hearts', value='K')\n",
    ">>> c\n",
    "\"K of Hearts\"\n",
    ">>> d = Deck()\n",
    ">>> d\n",
    "\"Cards remaining in deck: 52\"\n",
    "\n",
    "# Deck is not shuffled -- deals cards consecutively:\n",
    "\n",
    ">>> d.deal()\n",
    "\"K of Spades\"\n",
    ">>> d.deal()\n",
    "\"Q of Spades\"\n",
    ">>> d.deal()\n",
    "\"J of Spades\"\n",
    ">>> d\n",
    "\"Cards remaining in deck: 49\"\n",
    "\n",
    "# We dealt 3 cards, 49 remain\n",
    "# Can't shuffle deck that's not full:\n",
    "\n",
    ">>> d.shuffle()\n",
    "ValueError: Only full decks can be shuffled\n",
    "\n",
    "# You can shuffle full decks \n",
    ">>> d = Deck()\n",
    ">>> d.shuffle()\n",
    "\n",
    "# Now it deals random cards\n",
    "\n",
    ">>> d.deal()\n",
    "\"2 of Hearts\"\n",
    "\n",
    "```"
   ]
  },
  {
   "cell_type": "code",
   "execution_count": 39,
   "metadata": {},
   "outputs": [
    {
     "name": "stdout",
     "output_type": "stream",
     "text": [
      "9 of Hearts\n"
     ]
    }
   ],
   "source": [
    "import random\n",
    "from random import randint as rand\n",
    "from random import shuffle\n",
    "class Card:\n",
    "    def __init__(self, suit, value):\n",
    "        self.value = value\n",
    "        self.suit = suit\n",
    "    def CardValue(self):\n",
    "        if self.value == 1:\n",
    "            Name = \"Ace\"\n",
    "        elif self.value == 11:\n",
    "            Name = \"Jack\"\n",
    "        elif self.value == 12:\n",
    "            Name = \"Queen\"\n",
    "        elif self.value == 13:\n",
    "            Name = \"King\"\n",
    "        else:\n",
    "            Name = str(self.value)\n",
    "        return \"{value} of {suit}\".format(value = Name, suit = self.suit)\n",
    "    def deal(self):\n",
    "        print(self.CardValue())\n",
    "\n",
    "class Deck:\n",
    "    def __init__(self):\n",
    "        self.cards = []\n",
    "        self.build()\n",
    "    def build(self):\n",
    "        for s in [\"Spades\", \"Hearts\", \"Clubs\", \"Diamonds\"]:\n",
    "            for v in range(1, 14):\n",
    "                self.cards.append(Card(s, v))\n",
    "    def deal(self):\n",
    "        for c in self.cards:\n",
    "            c.deal()\n",
    "    import random\n",
    "    def shuffle(self):\n",
    "        for i in range(len(self.cards) - 1, 0, -1):\n",
    "            r = random.randint(0, i)\n",
    "            self.cards[i], self.cards[r] = self.cards[r], self.cards[i]\n",
    "    def Draw(self):\n",
    "        return self.cards.pop()\n",
    "\n",
    "d = Deck()\n",
    "d.shuffle()\n",
    "card = d.Draw()\n",
    "card.deal()"
   ]
  },
  {
   "cell_type": "code",
   "execution_count": null,
   "metadata": {},
   "outputs": [],
   "source": []
  },
  {
   "cell_type": "code",
   "execution_count": null,
   "metadata": {},
   "outputs": [],
   "source": []
  },
  {
   "cell_type": "code",
   "execution_count": null,
   "metadata": {},
   "outputs": [],
   "source": []
  }
 ],
 "metadata": {
  "colab": {
   "collapsed_sections": [],
   "name": "Workshop: Python Types and Classes.ipynb",
   "provenance": []
  },
  "kernelspec": {
   "display_name": "Python 3",
   "language": "python",
   "name": "python3"
  },
  "language_info": {
   "codemirror_mode": {
    "name": "ipython",
    "version": 3
   },
   "file_extension": ".py",
   "mimetype": "text/x-python",
   "name": "python",
   "nbconvert_exporter": "python",
   "pygments_lexer": "ipython3",
   "version": "3.8.3"
  }
 },
 "nbformat": 4,
 "nbformat_minor": 1
}
